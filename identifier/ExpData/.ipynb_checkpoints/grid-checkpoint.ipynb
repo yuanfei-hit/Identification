{
 "cells": [
  {
   "cell_type": "code",
   "execution_count": null,
   "metadata": {
    "collapsed": true,
    "scrolled": true
   },
   "outputs": [],
   "source": [
    "import numpy as np\n",
    "import matplotlib.pyplot as plt\n",
    "from matplotlib import cm\n",
    "%matplotlib inline"
   ]
  },
  {
   "cell_type": "code",
   "execution_count": null,
   "metadata": {
    "scrolled": true
   },
   "outputs": [],
   "source": [
    "model = 'I'\n",
    "y0 = np.loadtxt('tactileFeature/' + model + '_contact_feature.txt')\n",
    "y = y0\n",
    "num = 50\n",
    "#f = plt.figure(figsize=(12,6))\n",
    "#ax = f.add_subplot(231)\n",
    "#ax.hist(y, num);\n",
    "plt.hist(y, num);\n",
    "plt.title('Model \"' + model + '\"')\n",
    "plt.xlabel('Stiffness (N/m)')\n",
    "plt.ylabel('Count number')\n",
    "#print y\n",
    "#y = np.ma.masked_greater(y,5000)\n",
    "#y = np.ma.masked_less(y,3500)\n",
    "print np.mean(y) \n",
    "print np.std(y)\n",
    "#print plt.hist(y, num)\n",
    "\n"
   ]
  },
  {
   "cell_type": "code",
   "execution_count": null,
   "metadata": {},
   "outputs": [],
   "source": [
    "y0 = np.loadtxt('finger_0_contact_force_timing.txt')\n",
    "y1 = np.loadtxt('finger_1_contact_force_timing.txt')\n",
    "y2 = np.loadtxt('finger_2_contact_force_timing.txt')\n",
    "x = np.arange(0, float(y0.shape[0])/100, 0.01)\n",
    "plt.xlabel('Time (s)')\n",
    "plt.ylabel('Force (N)')\n",
    "#plt.axis([0, float(y0.shape[0])/100-2, 0, 0.07]) \n",
    "#plt.ticklabel_format(axis='y',style='sci',scilimits=(0,1e-5))\n",
    "plt.plot(x, y0, label='finger_0')\n",
    "plt.plot(x, y1, label='finger_1')\n",
    "plt.plot(x, y2, label='finger_2')\n",
    "legend = plt.legend(loc='upper left', shadow=False, fontsize='medium')\n",
    "#plt.savefig('figures/' + model + '_ContactForces.pdf')\n",
    "plt.show()"
   ]
  }
 ],
 "metadata": {
  "kernelspec": {
   "display_name": "Python 2",
   "language": "python",
   "name": "python2"
  },
  "language_info": {
   "codemirror_mode": {
    "name": "ipython",
    "version": 2
   },
   "file_extension": ".py",
   "mimetype": "text/x-python",
   "name": "python",
   "nbconvert_exporter": "python",
   "pygments_lexer": "ipython2",
   "version": "2.7.13"
  }
 },
 "nbformat": 4,
 "nbformat_minor": 2
}
