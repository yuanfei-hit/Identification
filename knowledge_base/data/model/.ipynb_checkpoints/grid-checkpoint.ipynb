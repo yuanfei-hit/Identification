{
 "cells": [
  {
   "cell_type": "code",
   "execution_count": null,
   "metadata": {
    "collapsed": true
   },
   "outputs": [],
   "source": [
    "import numpy as np\n",
    "import matplotlib.pyplot as plt\n",
    "from matplotlib import cm\n",
    "%matplotlib inline"
   ]
  },
  {
   "cell_type": "code",
   "execution_count": null,
   "metadata": {
    "collapsed": true
   },
   "outputs": [],
   "source": [
    "def plotSliceScoreFig(name):  \n",
    "    y = np.loadtxt('adjacentSliceScore/model_' + name + '_0_order.txt')\n",
    "    x = np.arange(0, y.shape[0], 1)\n",
    "    plt.xlabel('Slice id')\n",
    "    plt.ylabel('Scores')\n",
    "    plt.axis([0, y.shape[0], 0, 1e-5]) \n",
    "    plt.ticklabel_format(axis='y',style='sci',scilimits=(0,1e-5))\n",
    "    plt.plot(x,y)\n",
    "    plt.savefig('figures/slice_score_model_' + name + '.pdf')\n",
    "    plt.show()"
   ]
  },
  {
   "cell_type": "code",
   "execution_count": null,
   "metadata": {
    "scrolled": true
   },
   "outputs": [],
   "source": [
    "plotSliceScoreFig('A')\n",
    "plotSliceScoreFig('B')\n",
    "plotSliceScoreFig('C')\n",
    "plotSliceScoreFig('D')\n",
    "plotSliceScoreFig('E')\n",
    "plotSliceScoreFig('F')\n",
    "plotSliceScoreFig('G')\n",
    "#plotSliceScoreFig('H')\n",
    "#plotSliceScoreFig('I')"
   ]
  },
  {
   "cell_type": "code",
   "execution_count": null,
   "metadata": {},
   "outputs": [],
   "source": [
    "y = np.loadtxt('adjacentSliceScore/model_C_0_order.txt')\n",
    "print np.mean(y)\n",
    "print np.std(y)*1000"
   ]
  }
 ],
 "metadata": {
  "kernelspec": {
   "display_name": "Python 2",
   "language": "python",
   "name": "python2"
  },
  "language_info": {
   "codemirror_mode": {
    "name": "ipython",
    "version": 2
   },
   "file_extension": ".py",
   "mimetype": "text/x-python",
   "name": "python",
   "nbconvert_exporter": "python",
   "pygments_lexer": "ipython2",
   "version": "2.7.13"
  }
 },
 "nbformat": 4,
 "nbformat_minor": 2
}
