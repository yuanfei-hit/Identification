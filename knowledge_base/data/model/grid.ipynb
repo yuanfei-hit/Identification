{
 "cells": [
  {
   "cell_type": "code",
   "execution_count": 4,
   "metadata": {
    "collapsed": true
   },
   "outputs": [],
   "source": [
    "import numpy as np\n",
    "import matplotlib.pyplot as plt\n",
    "from matplotlib import cm\n",
    "%matplotlib inline"
   ]
  },
  {
   "cell_type": "code",
   "execution_count": null,
   "metadata": {
    "collapsed": true
   },
   "outputs": [],
   "source": [
    "def plotSliceScoreFig(name):  \n",
    "    y = np.loadtxt('adjacentSliceScore/model_' + name + '_0_order.txt')\n",
    "    x = np.arange(0, y.shape[0], 1)\n",
    "    plt.xlabel('Slice id')\n",
    "    plt.ylabel('Scores')\n",
    "    plt.axis([0, y.shape[0], 0, 1e-5]) \n",
    "    plt.ticklabel_format(axis='y',style='sci',scilimits=(0,1e-5))\n",
    "    plt.plot(x,y)\n",
    "    plt.savefig('figures/slice_score_model_' + name + '.pdf')\n",
    "    plt.show()"
   ]
  },
  {
   "cell_type": "code",
   "execution_count": null,
   "metadata": {
    "collapsed": true,
    "scrolled": true
   },
   "outputs": [],
   "source": [
    "plotSliceScoreFig('A')\n",
    "plotSliceScoreFig('B')\n",
    "plotSliceScoreFig('C')\n",
    "plotSliceScoreFig('D')\n",
    "plotSliceScoreFig('E')\n",
    "plotSliceScoreFig('F')\n",
    "plotSliceScoreFig('G')\n",
    "#plotSliceScoreFig('H')\n",
    "#plotSliceScoreFig('I')"
   ]
  },
  {
   "cell_type": "code",
   "execution_count": 28,
   "metadata": {},
   "outputs": [
    {
     "name": "stdout",
     "output_type": "stream",
     "text": [
      "1.8666807037e-06\n",
      "0.00122021774099\n",
      "(array([ 21.,   3.,   1.,   1.,   1.]), array([  9.50479000e-07,   2.05599720e-06,   3.16151540e-06,\n",
      "         4.26703360e-06,   5.37255180e-06,   6.47807000e-06]), <a list of 5 Patch objects>)\n"
     ]
    },
    {
     "data": {
      "image/png": "[encoded data removed]",
      "text/plain": [
       "<matplotlib.figure.Figure at 0x7f663d10df50>"
      ]
     },
     "metadata": {},
     "output_type": "display_data"
    }
   ],
   "source": [
    "y = np.loadtxt('adjacentSliceScore/model_C_0_order.txt')\n",
    "num = 5\n",
    "#f = plt.figure(figsize=(12,6))\n",
    "#ax = f.add_subplot(231)\n",
    "#ax.hist(y, num);\n",
    "plt.hist(y, num);\n",
    "plt.title('y axis')\n",
    "print np.mean(y)\n",
    "print np.std(y)*1000\n",
    "print plt.hist(y, num)"
   ]
  },
  {
   "cell_type": "code",
   "execution_count": null,
   "metadata": {
    "collapsed": true
   },
   "outputs": [],
   "source": []
  }
 ],
 "metadata": {
  "kernelspec": {
   "display_name": "Python 2",
   "language": "python",
   "name": "python2"
  },
  "language_info": {
   "codemirror_mode": {
    "name": "ipython",
    "version": 2
   },
   "file_extension": ".py",
   "mimetype": "text/x-python",
   "name": "python",
   "nbconvert_exporter": "python",
   "pygments_lexer": "ipython2",
   "version": "2.7.13"
  }
 },
 "nbformat": 4,
 "nbformat_minor": 2
}
